{
 "cells": [
  {
   "cell_type": "markdown",
   "metadata": {
    "collapsed": true,
    "pycharm": {
     "name": "#%% md\n"
    }
   },
   "source": [
    "### This is a markdown cell\n"
   ]
  },
  {
   "cell_type": "code",
   "execution_count": 2,
   "metadata": {
    "pycharm": {
     "name": "#%%\n"
    }
   },
   "outputs": [
    {
     "name": "stdout",
     "output_type": "stream",
     "text": [
      "teststring\n"
     ]
    }
   ],
   "source": [
    "my_string = \"teststring\"\n",
    "print(my_string)"
   ]
  },
  {
   "cell_type": "code",
   "execution_count": 1,
   "metadata": {
    "pycharm": {
     "name": "#%%\n"
    }
   },
   "outputs": [
    {
     "data": {
      "text/plain": "        ifplid                                  fufi valid callsign origin  \\\n0   AA02094755  37197c44-ad9b-40eb-b75d-401f99ce2826  true   SUI007   LIMF   \n1   AA02195830  9424d8c9-f0f4-4803-9979-4e5991f98b80  true   WOW2PA   EHAM   \n2   AA02177847  b29000a2-0dd9-4297-b762-7bcd262e4099  true  NAX4546   LLBG   \n3   AA02201104  84ce40e3-b79a-48fd-b99e-61da9c0d94e4  true   AZA048   LIML   \n4   AA02199739  14aeea8b-45db-42cf-aaee-bf53462d5ae0  true   AFR636   LFPG   \n..         ...                                   ...   ...      ...    ...   \n95  AA02206124  a36a79e0-5bd5-427b-941e-a0e4c201d797  true  RYR4166   EDDF   \n96  AA02203786  8e7cfaba-79b6-445b-ae9f-d5ff1a6b76bb  true   QTR4WZ   OTHH   \n97  AA02185844  01066cc1-2258-4a83-a519-9782579b2d83  true   TCX4PC   LMML   \n98  AA02197073  7b1c569f-ac30-44e0-a03b-9e9e9aa1ebb8  true   EVA075   VTBS   \n99  AA02196041  16d7b671-7160-4e04-bdec-920a536e065d  true  KTK7713   UUDD   \n\n   destn actyp             etd             eta deprwy dstrwy        ldgmass  \\\n0   LSZB  F900  20180607154600  20180607163700   RW36   RW14   14002.396462   \n1   BIKF  A321  20180607105600  20180607131756  RW18C   RW28   71500.000000   \n2   ESSA  B738  20180607110300  20180607160310   RW26   RW26   65300.000000   \n3   LEMD  E75S  20180607140400  20180607161357   RW36  RW18L   33000.000000   \n4   KIAH  B77W  20180607081300  20180607180306  RW27L    NaN  240000.000000   \n..   ...   ...             ...             ...    ...    ...            ...   \n95  LGSA  B738  20180607134900  20180607160022   RW18   RW29   65300.000000   \n96  LIRF  B788  20180607125300  20180607184136    NaN  RW34R  189110.000000   \n97  EGBB  A320  20180607122500  20180607152136   RW13   RW33   61000.000000   \n98  EHAM  B77W  20180607060000  20180607165038    NaN  RW18C  251290.000000   \n99  DTTJ  B752  20180607111200  20180607153839  RW14L   RW09   95200.000000   \n\n              zfm     remf  \n0    14002.396462      0.0  \n1    71500.000000      0.0  \n2    65300.000000      0.0  \n3    33000.000000      0.0  \n4   240000.000000      0.0  \n..            ...      ...  \n95   65300.000000      0.0  \n96  189110.000000      0.0  \n97   61000.000000      0.0  \n98  240000.000000  11290.0  \n99   95200.000000      0.0  \n\n[100 rows x 14 columns]",
      "text/html": "<div>\n<style scoped>\n    .dataframe tbody tr th:only-of-type {\n        vertical-align: middle;\n    }\n\n    .dataframe tbody tr th {\n        vertical-align: top;\n    }\n\n    .dataframe thead th {\n        text-align: right;\n    }\n</style>\n<table border=\"1\" class=\"dataframe\">\n  <thead>\n    <tr style=\"text-align: right;\">\n      <th></th>\n      <th>ifplid</th>\n      <th>fufi</th>\n      <th>valid</th>\n      <th>callsign</th>\n      <th>origin</th>\n      <th>destn</th>\n      <th>actyp</th>\n      <th>etd</th>\n      <th>eta</th>\n      <th>deprwy</th>\n      <th>dstrwy</th>\n      <th>ldgmass</th>\n      <th>zfm</th>\n      <th>remf</th>\n    </tr>\n  </thead>\n  <tbody>\n    <tr>\n      <th>0</th>\n      <td>AA02094755</td>\n      <td>37197c44-ad9b-40eb-b75d-401f99ce2826</td>\n      <td>true</td>\n      <td>SUI007</td>\n      <td>LIMF</td>\n      <td>LSZB</td>\n      <td>F900</td>\n      <td>20180607154600</td>\n      <td>20180607163700</td>\n      <td>RW36</td>\n      <td>RW14</td>\n      <td>14002.396462</td>\n      <td>14002.396462</td>\n      <td>0.0</td>\n    </tr>\n    <tr>\n      <th>1</th>\n      <td>AA02195830</td>\n      <td>9424d8c9-f0f4-4803-9979-4e5991f98b80</td>\n      <td>true</td>\n      <td>WOW2PA</td>\n      <td>EHAM</td>\n      <td>BIKF</td>\n      <td>A321</td>\n      <td>20180607105600</td>\n      <td>20180607131756</td>\n      <td>RW18C</td>\n      <td>RW28</td>\n      <td>71500.000000</td>\n      <td>71500.000000</td>\n      <td>0.0</td>\n    </tr>\n    <tr>\n      <th>2</th>\n      <td>AA02177847</td>\n      <td>b29000a2-0dd9-4297-b762-7bcd262e4099</td>\n      <td>true</td>\n      <td>NAX4546</td>\n      <td>LLBG</td>\n      <td>ESSA</td>\n      <td>B738</td>\n      <td>20180607110300</td>\n      <td>20180607160310</td>\n      <td>RW26</td>\n      <td>RW26</td>\n      <td>65300.000000</td>\n      <td>65300.000000</td>\n      <td>0.0</td>\n    </tr>\n    <tr>\n      <th>3</th>\n      <td>AA02201104</td>\n      <td>84ce40e3-b79a-48fd-b99e-61da9c0d94e4</td>\n      <td>true</td>\n      <td>AZA048</td>\n      <td>LIML</td>\n      <td>LEMD</td>\n      <td>E75S</td>\n      <td>20180607140400</td>\n      <td>20180607161357</td>\n      <td>RW36</td>\n      <td>RW18L</td>\n      <td>33000.000000</td>\n      <td>33000.000000</td>\n      <td>0.0</td>\n    </tr>\n    <tr>\n      <th>4</th>\n      <td>AA02199739</td>\n      <td>14aeea8b-45db-42cf-aaee-bf53462d5ae0</td>\n      <td>true</td>\n      <td>AFR636</td>\n      <td>LFPG</td>\n      <td>KIAH</td>\n      <td>B77W</td>\n      <td>20180607081300</td>\n      <td>20180607180306</td>\n      <td>RW27L</td>\n      <td>NaN</td>\n      <td>240000.000000</td>\n      <td>240000.000000</td>\n      <td>0.0</td>\n    </tr>\n    <tr>\n      <th>...</th>\n      <td>...</td>\n      <td>...</td>\n      <td>...</td>\n      <td>...</td>\n      <td>...</td>\n      <td>...</td>\n      <td>...</td>\n      <td>...</td>\n      <td>...</td>\n      <td>...</td>\n      <td>...</td>\n      <td>...</td>\n      <td>...</td>\n      <td>...</td>\n    </tr>\n    <tr>\n      <th>95</th>\n      <td>AA02206124</td>\n      <td>a36a79e0-5bd5-427b-941e-a0e4c201d797</td>\n      <td>true</td>\n      <td>RYR4166</td>\n      <td>EDDF</td>\n      <td>LGSA</td>\n      <td>B738</td>\n      <td>20180607134900</td>\n      <td>20180607160022</td>\n      <td>RW18</td>\n      <td>RW29</td>\n      <td>65300.000000</td>\n      <td>65300.000000</td>\n      <td>0.0</td>\n    </tr>\n    <tr>\n      <th>96</th>\n      <td>AA02203786</td>\n      <td>8e7cfaba-79b6-445b-ae9f-d5ff1a6b76bb</td>\n      <td>true</td>\n      <td>QTR4WZ</td>\n      <td>OTHH</td>\n      <td>LIRF</td>\n      <td>B788</td>\n      <td>20180607125300</td>\n      <td>20180607184136</td>\n      <td>NaN</td>\n      <td>RW34R</td>\n      <td>189110.000000</td>\n      <td>189110.000000</td>\n      <td>0.0</td>\n    </tr>\n    <tr>\n      <th>97</th>\n      <td>AA02185844</td>\n      <td>01066cc1-2258-4a83-a519-9782579b2d83</td>\n      <td>true</td>\n      <td>TCX4PC</td>\n      <td>LMML</td>\n      <td>EGBB</td>\n      <td>A320</td>\n      <td>20180607122500</td>\n      <td>20180607152136</td>\n      <td>RW13</td>\n      <td>RW33</td>\n      <td>61000.000000</td>\n      <td>61000.000000</td>\n      <td>0.0</td>\n    </tr>\n    <tr>\n      <th>98</th>\n      <td>AA02197073</td>\n      <td>7b1c569f-ac30-44e0-a03b-9e9e9aa1ebb8</td>\n      <td>true</td>\n      <td>EVA075</td>\n      <td>VTBS</td>\n      <td>EHAM</td>\n      <td>B77W</td>\n      <td>20180607060000</td>\n      <td>20180607165038</td>\n      <td>NaN</td>\n      <td>RW18C</td>\n      <td>251290.000000</td>\n      <td>240000.000000</td>\n      <td>11290.0</td>\n    </tr>\n    <tr>\n      <th>99</th>\n      <td>AA02196041</td>\n      <td>16d7b671-7160-4e04-bdec-920a536e065d</td>\n      <td>true</td>\n      <td>KTK7713</td>\n      <td>UUDD</td>\n      <td>DTTJ</td>\n      <td>B752</td>\n      <td>20180607111200</td>\n      <td>20180607153839</td>\n      <td>RW14L</td>\n      <td>RW09</td>\n      <td>95200.000000</td>\n      <td>95200.000000</td>\n      <td>0.0</td>\n    </tr>\n  </tbody>\n</table>\n<p>100 rows × 14 columns</p>\n</div>"
     },
     "execution_count": 1,
     "metadata": {},
     "output_type": "execute_result"
    }
   ],
   "source": [
    "import pandas as pd\n",
    "\n",
    "#read in data from my github repo\n",
    "data = pd.read_csv(\"O:\\Projects\\START\\FltCreation\\START_Fltset_20180607.csv\")\n",
    "data.head(100)\n"
   ]
  }
 ],
 "metadata": {
  "kernelspec": {
   "display_name": "Python 3 (ipykernel)",
   "language": "python",
   "name": "python3"
  },
  "language_info": {
   "codemirror_mode": {
    "name": "ipython",
    "version": 3
   },
   "file_extension": ".py",
   "mimetype": "text/x-python",
   "name": "python",
   "nbconvert_exporter": "python",
   "pygments_lexer": "ipython3",
   "version": "3.9.5"
  }
 },
 "nbformat": 4,
 "nbformat_minor": 1
}